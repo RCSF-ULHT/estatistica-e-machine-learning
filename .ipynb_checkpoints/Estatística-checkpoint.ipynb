{
 "cells": [
  {
   "cell_type": "markdown",
   "id": "f246626a",
   "metadata": {},
   "source": [
    "# Conceitos Base de Estatística e Machine Learning\n",
    "\n",
    "* Machine Learning fazer o computador aprender, estudando dados e estatísticas.\n",
    "* Machine Learning é um passo na direção da inteligência artificial (IA).\n",
    "* Machine Learning é um programa que analisa dados e aprende a prever o resultado."
   ]
  },
  {
   "cell_type": "markdown",
   "id": "2e287fd0",
   "metadata": {},
   "source": [
    "# Tipos de dados\n",
    "\n",
    "Para analisar dados, é importante saber com que tipo de dados estamos lidando.\n",
    "\n",
    "Podemos dividir os tipos de dados em três categorias principais:\n",
    "* Numérico\n",
    "* Categórico\n",
    "* Ordinal\n",
    "\n",
    "Os dados **numéricos** são números e podem ser divididos em duas categorias numéricas:\n",
    "* Dados discretos - números que são limitados a números inteiros. Exemplo: O número de carros que passam.\n",
    "* Dados contínuos - números que são de valor infinito. Exemplo: o preço de um item ou o tamanho de um item\n",
    "\n",
    "Dados **categóricos** são valores que não podem ser comparados entre si. Exemplo: um valor de cor ou quaisquer valores sim/não.\n",
    "\n",
    "Dados **ordinais** são como dados categóricos, mas podem ser comparados uns com os outros. Exemplo: notas escolares onde A é melhor que B e assim por diante.\n",
    "\n",
    "Ao conhecer o tipo de dados de sua fonte de dados, você poderá saber qual técnica usar ao analisá-los."
   ]
  },
  {
   "cell_type": "markdown",
   "id": "0e7859bb",
   "metadata": {},
   "source": [
    "# Média, mediana e moda\n",
    "\n",
    "O que podemos aprender olhando para um grupo de números?\n",
    "\n",
    "Em Machine Learning (e em matemática), geralmente existem três valores que nos interessam:\n",
    "* Média - O valor médio\n",
    "* Mediana - O valor do ponto médio\n",
    "* Moda - O valor mais comum\n",
    "\n",
    "Exemplo: Registramos a velocidade de 13 carros:"
   ]
  },
  {
   "cell_type": "code",
   "execution_count": 7,
   "id": "749c71a6",
   "metadata": {},
   "outputs": [
    {
     "name": "stdout",
     "output_type": "stream",
     "text": [
      "A média é 89.77\n"
     ]
    }
   ],
   "source": [
    "speeds = [99,86,87,88,111,86,103,87,94,78,77,85,86]"
   ]
  },
  {
   "cell_type": "markdown",
   "id": "6a969e13",
   "metadata": {},
   "source": [
    "## Média"
   ]
  },
  {
   "cell_type": "code",
   "execution_count": 7,
   "id": "d32de6b9",
   "metadata": {},
   "outputs": [
    {
     "name": "stdout",
     "output_type": "stream",
     "text": [
      "A média é 89.77\n"
     ]
    }
   ],
   "source": [
    "import numpy\n",
    "\n",
    "speeds = [99,86,87,88,111,86,103,87,94,78,77,85,86]\n",
    "\n",
    "x = numpy.mean(speeds)\n",
    "\n",
    "print(f\"A média é {x:.2f}\")"
   ]
  },
  {
   "cell_type": "markdown",
   "id": "ab0cc0e9",
   "metadata": {},
   "source": [
    "## Mediana\n",
    "\n",
    "O valor mediano é o valor no meio, depois de ordenar todos os valores"
   ]
  },
  {
   "cell_type": "code",
   "execution_count": 5,
   "id": "dc2e77f5",
   "metadata": {},
   "outputs": [
    {
     "data": {
      "text/plain": [
       "[77, 78, 85, 86, 86, 86, 87, 87, 88, 94, 99, 103, 111]"
      ]
     },
     "execution_count": 5,
     "metadata": {},
     "output_type": "execute_result"
    }
   ],
   "source": [
    "speeds.sort()  #ordenemos a lista\n",
    "\n",
    "speeds"
   ]
  },
  {
   "cell_type": "code",
   "execution_count": 6,
   "id": "1f5e1099",
   "metadata": {},
   "outputs": [
    {
     "data": {
      "text/plain": [
       "87.0"
      ]
     },
     "execution_count": 6,
     "metadata": {},
     "output_type": "execute_result"
    }
   ],
   "source": [
    "mediana = numpy.median(speeds)\n",
    "mediana"
   ]
  },
  {
   "cell_type": "markdown",
   "id": "759a8d0f",
   "metadata": {},
   "source": [
    "## Moda\n",
    "\n",
    "A moda é o valor que aparece o maior número de vezes"
   ]
  },
  {
   "cell_type": "code",
   "execution_count": 10,
   "id": "e21853bf",
   "metadata": {},
   "outputs": [
    {
     "data": {
      "text/plain": [
       "ModeResult(mode=array([86]), count=array([3]))"
      ]
     },
     "execution_count": 10,
     "metadata": {},
     "output_type": "execute_result"
    }
   ],
   "source": [
    "from scipy import stats\n",
    "\n",
    "stats.mode(speeds) # número 86 ocorre 3 vezes"
   ]
  },
  {
   "cell_type": "markdown",
   "id": "3504dcb5",
   "metadata": {},
   "source": [
    "## Desvio padrão\n",
    "\n",
    "O desvio padrão é um número que descreve a dispersão dos valores:\n",
    "* Um desvio padrão baixo significa que a maioria dos números está próxima do valor médio.\n",
    "* Um desvio padrão alto significa que os valores estão espalhados por uma faixa mais ampla.\n",
    "\n",
    " Notações:\n",
    "* O Desvio Padrão é frequentemente representado pelo símbolo Sigma: σ\n",
    "* A variância é frequentemente representada pelo símbolo Sigma Square: $σ^2$"
   ]
  },
  {
   "cell_type": "code",
   "execution_count": 16,
   "id": "dfdbefe3",
   "metadata": {},
   "outputs": [
    {
     "name": "stdout",
     "output_type": "stream",
     "text": [
      "média: 86.42857142857143\n",
      "desvio padrão: 0.9035079029052513\n"
     ]
    }
   ],
   "source": [
    "speeds_1 = [86,87,88,86,87,85,86]\n",
    "\n",
    "print(f\"média: {numpy.mean(speeds_1)}\")\n",
    "print(f\"desvio padrão: {numpy.std(speeds_1)}\")"
   ]
  },
  {
   "cell_type": "code",
   "execution_count": 15,
   "id": "d8ea88c5",
   "metadata": {},
   "outputs": [
    {
     "name": "stdout",
     "output_type": "stream",
     "text": [
      "média: 106.0\n",
      "desvio padrão: 90.82164625556746\n"
     ]
    }
   ],
   "source": [
    "speeds_2 = [32,311,138,28,59,77,97]\n",
    "\n",
    "print(f\"média: {numpy.mean(speeds_2)}\")\n",
    "print(f\"desvio padrão: {numpy.std(speeds_2)}\") # desvio padrão muito elevado, pois temos valores espaçhados por faixa muito ampla"
   ]
  },
  {
   "cell_type": "markdown",
   "id": "a1b72682",
   "metadata": {},
   "source": [
    "### como calcular matematicamente?\n",
    "1. calculamos a média\n",
    "1. calculamos para cada valor, a diferença da média\n",
    "```\n",
    "32 - 77.4 = -45.4\n",
    "111 - 77.4 =  33.6\n",
    "138 - 77.4 =  60.6\n",
    " 28 - 77.4 = -49.4\n",
    " 59 - 77.4 = -18.4\n",
    " 77 - 77.4 = - 0.4\n",
    " 97 - 77.4 =  19.6\n",
    "```\n",
    "\n",
    "1. Para cada diferença: encontre o valor quadrado:\n",
    " \n",
    "```\n",
    " (-45.4)^2 = 2061.16\n",
    " (33.6)^2 = 1128.96\n",
    " (60.6)^2 = 3672.36\n",
    "(-49.4)^2 = 2440.36\n",
    "(-18.4)^2 =  338.56\n",
    "(- 0.4)^2 =    0.16\n",
    " (19.6)^2 =  384.16\n",
    " ```\n",
    "\n",
    "4. A variância é a média dessas diferenças quadradas:\n",
    "```\n",
    "(2061.16+1128.96+3672.36+2440.36+338.56+0.16+384.16) / 7 = 1432.2\n",
    "```\n",
    "\n",
    "1. Desvio padrão é a raiz quadrada da variância\n",
    "```\n",
    "sqrt(1432.2) = 37.85\n",
    "```"
   ]
  },
  {
   "cell_type": "code",
   "execution_count": 26,
   "id": "2de08b23",
   "metadata": {},
   "outputs": [
    {
     "name": "stdout",
     "output_type": "stream",
     "text": [
      "média: 77.42857142857143\n",
      "desvio padrão: 37.84501153334721\n"
     ]
    }
   ],
   "source": [
    "print(f\"média: {numpy.mean(speeds)}\")\n",
    "print(f\"desvio padrão: {numpy.std(speeds)}\")"
   ]
  },
  {
   "cell_type": "markdown",
   "id": "90ab57d1",
   "metadata": {},
   "source": [
    "# Percentil\n",
    "\n",
    "Os percentis são usados em estatística para fornecer um número que descreve o valor que um determinado percentual dos valores é inferior."
   ]
  },
  {
   "cell_type": "code",
   "execution_count": 65,
   "id": "61b88499",
   "metadata": {},
   "outputs": [],
   "source": [
    "idades = [1, 5,31,43,48,50,41,7,11,15,39,80,82,32,2,8,6,25,36,27,61,31, 98, 99, 95, 100]"
   ]
  },
  {
   "cell_type": "code",
   "execution_count": 66,
   "id": "96238494",
   "metadata": {},
   "outputs": [
    {
     "name": "stdout",
     "output_type": "stream",
     "text": [
      "75% das pessoas da lista têm idade inferior a 58.25\n"
     ]
    }
   ],
   "source": [
    "percentagem = 75\n",
    "\n",
    "percentil = numpy.percentile(idades, percentagem)\n",
    "\n",
    "print(f\"{percentagem}% das pessoas da lista têm idade inferior a {percentil}\")"
   ]
  },
  {
   "cell_type": "code",
   "execution_count": 67,
   "id": "d41f32a5",
   "metadata": {},
   "outputs": [
    {
     "name": "stdout",
     "output_type": "stream",
     "text": [
      "[1, 2, 5, 6, 7, 8, 11, 15, 25, 27, 31, 31, 32, 36, 39, 41, 43, 48, 50, 61, 80, 82, 95, 98, 99, 100]\n"
     ]
    }
   ],
   "source": [
    "idades.sort()\n",
    "print(idades)"
   ]
  },
  {
   "cell_type": "code",
   "execution_count": 68,
   "id": "87b0fa22",
   "metadata": {},
   "outputs": [
    {
     "data": {
      "text/plain": [
       "34.0"
      ]
     },
     "execution_count": 68,
     "metadata": {},
     "output_type": "execute_result"
    }
   ],
   "source": [
    "numpy.median(idades)"
   ]
  },
  {
   "attachments": {},
   "cell_type": "markdown",
   "id": "13507815",
   "metadata": {},
   "source": [
    "# Boxplot\n",
    "\n",
    "* Em estatística descritiva, um box plot é um diagrama de quartis [[1]](https://matplotlib.org/stable/api/_as_gen/matplotlib.pyplot.boxplot.html). \n",
    "\n",
    "```bash\n",
    "     Q1-1.5IQR   Q1   median  Q3   Q3+1.5IQR\n",
    "                  |-----:-----|\n",
    "  o      |--------|     :     |--------|    o  o\n",
    "                  |-----:-----|\n",
    "flier             <----------->            fliers\n",
    "                       IQR\n",
    "```\n",
    "\n",
    "Nele se representam:\n",
    "   * mediana (quartil 50%, Q2)\n",
    "   * percentis 25% (Q1) e 75% (Q3)\n",
    "   * A altura da caixa é amplitude interquartil (AIQ)\n",
    "   * o limite inferior calcula-se Q1 - 1.5*AIQ\n",
    "* Ferramenta gráfica para representar a variação de dados observados de uma variável numérica por meio de quartis.\n",
    "* Os valores atípicos ou outliers (valores discrepantes) são plotados como pontos individuais\n"
   ]
  },
  {
   "cell_type": "code",
   "execution_count": 5,
   "id": "d1a1f7e9",
   "metadata": {},
   "outputs": [
    {
     "data": {
      "image/png": "[encoded data removed]",
      "text/plain": [
       "<Figure size 432x288 with 1 Axes>"
      ]
     },
     "metadata": {
      "needs_background": "light"
     },
     "output_type": "display_data"
    }
   ],
   "source": [
    "import matplotlib.pyplot as plt\n",
    "\n",
    "idades_amigos = [1, 5,31,43,48,50,41,7,11,15,39,80,82,32,2,8,6,25,36,27,61,31, 130]\n",
    "plt.boxplot(idades_amigos, vert=False)\n",
    "plt.show()"
   ]
  },
  {
   "attachments": {},
   "cell_type": "markdown",
   "id": "78c8ea09",
   "metadata": {},
   "source": [
    "# Histograma\n",
    "\n",
    "* Para visualizar um conjunto de dados podemos desenhar um histograma com os dados que coletamos.\n",
    "* O boxplot é uma representação mais sintética da informação estatística dos dados do que um histograma"
   ]
  },
  {
   "cell_type": "code",
   "execution_count": 1,
   "id": "154f33a0",
   "metadata": {},
   "outputs": [
    {
     "data": {
      "image/png": "[encoded data removed]",
      "text/plain": [
       "<Figure size 432x288 with 1 Axes>"
      ]
     },
     "metadata": {
      "needs_background": "light"
     },
     "output_type": "display_data"
    }
   ],
   "source": [
    "import matplotlib.pyplot as plt\n",
    "import numpy\n",
    "\n",
    "idades = [1, 5,31,43,48,50,41,7,11,15,39,80,82,32,2,8,6,25,36,27,61,31, 98, 99, 95, 100]\n",
    "plt.hist(idades, 10)\n",
    "plt.show()"
   ]
  },
  {
   "cell_type": "markdown",
   "id": "0d799f6e",
   "metadata": {},
   "source": [
    "* a lista idades tem valores entre 1 e 99.\n",
    "* podemos especificar o número de barras que queremos.\n",
    "* cada barra agrupa valores que estão dentro de um intervalo. por exemplo:\n",
    "   * idades entre 1 e 99, e 10 barras, teremos uma barra de 0-9, outra de 10-19, outra de 20-29, ...\n",
    "   * idades entre 1 e 99, e 5 barras, teremos uma barra de 0-19, outra de 20-39, outra de 40-59, ...\n",
    "   \n",
    "   "
   ]
  },
  {
   "cell_type": "markdown",
   "id": "c9cd1953",
   "metadata": {},
   "source": [
    "# Distribuições de *Big Data*\n",
    "\n",
    "### Distribuição uniforme de dados"
   ]
  },
  {
   "cell_type": "code",
   "execution_count": 12,
   "id": "35461508",
   "metadata": {},
   "outputs": [
    {
     "data": {
      "image/png": "[encoded data removed]",
      "text/plain": [
       "<Figure size 432x288 with 1 Axes>"
      ]
     },
     "metadata": {
      "needs_background": "light"
     },
     "output_type": "display_data"
    }
   ],
   "source": [
    "\n",
    "import numpy\n",
    "import matplotlib.pyplot as plt\n",
    "\n",
    "# criar aleatoriamente uma lista \n",
    "# com 100.000 numeros \n",
    "# uniformemente distribuidos entre 0.0 e 5.0\n",
    "\n",
    "x = numpy.random.uniform(1, 6, 100000)\n",
    "\n",
    "plt.hist(x, 6)\n",
    "plt.show()"
   ]
  },
  {
   "cell_type": "code",
   "execution_count": 1,
   "id": "b94e9795",
   "metadata": {},
   "outputs": [],
   "source": [
    "# outras distribuições que existem\n",
    "\n",
    "# help(numpy.random)"
   ]
  },
  {
   "cell_type": "markdown",
   "id": "1a22af0f",
   "metadata": {},
   "source": [
    "## Distribuição Normal ou Gaussiana"
   ]
  },
  {
   "cell_type": "code",
   "execution_count": 21,
   "id": "fbfb1ff1",
   "metadata": {},
   "outputs": [
    {
     "data": {
      "image/png": "[encoded data removed]",
      "text/plain": [
       "<Figure size 432x288 with 1 Axes>"
      ]
     },
     "metadata": {
      "needs_background": "light"
     },
     "output_type": "display_data"
    }
   ],
   "source": [
    "import numpy\n",
    "import matplotlib.pyplot as plt\n",
    "\n",
    "# criar aleatoriamente uma lista \n",
    "# com 100.000 numeros \n",
    "# distribuidos de acordo com uma normal\n",
    "# com média 5 e desvio padrão 1\n",
    "\n",
    "x = numpy.random.normal(5, 1, 100000)\n",
    "plt.hist(x, 100)\n",
    "\n",
    "# com média 7 e desvio padrão 0.1\n",
    "y = numpy.random.normal(7, 0.1, 100000)\n",
    "plt.hist(y, 100)\n",
    "\n",
    "plt.show()"
   ]
  },
  {
   "cell_type": "markdown",
   "id": "5a257744",
   "metadata": {},
   "source": [
    "# Gráfico de dispersão (*scatter*)\n",
    "\n",
    "Um gráfico de dispersão é um diagrama onde cada valor no conjunto de dados é representado por um ponto."
   ]
  },
  {
   "cell_type": "code",
   "execution_count": 27,
   "id": "cfaf5a8d",
   "metadata": {},
   "outputs": [
    {
     "data": {
      "image/png": "[encoded data removed]",
      "text/plain": [
       "<Figure size 432x288 with 1 Axes>"
      ]
     },
     "metadata": {
      "needs_background": "light"
     },
     "output_type": "display_data"
    }
   ],
   "source": [
    "idades = [5,7,8,7,2,17,2,9,4,11,12,9,6]\n",
    "velocidades = [99,86,87,88,111,86,103,87,94,78,77,85,86]\n",
    "\n",
    "\n",
    "plt.scatter(idades, velocidades)\n",
    "\n",
    "plt.xlabel(\"idade\")\n",
    "plt.ylabel(\"velocidade\")\n",
    "plt.show()"
   ]
  },
  {
   "cell_type": "markdown",
   "id": "49742a47",
   "metadata": {},
   "source": [
    "analisando o grafico, vemos que :\n",
    "* o mais rápido tem 2 anos\n",
    "* o mais lento tem 12 anos"
   ]
  },
  {
   "cell_type": "code",
   "execution_count": 25,
   "id": "21cef57f",
   "metadata": {},
   "outputs": [
    {
     "data": {
      "image/png": "[encoded data removed]",
      "text/plain": [
       "<Figure size 432x288 with 1 Axes>"
      ]
     },
     "metadata": {
      "needs_background": "light"
     },
     "output_type": "display_data"
    }
   ],
   "source": [
    "import numpy\n",
    "import matplotlib.pyplot as plt\n",
    "\n",
    "# criar aleatoriamente uma lista \n",
    "# com 100.000 numeros \n",
    "# distribuidos de acordo com uma normal\n",
    "# com média 5 e desvio padrão 1\n",
    "\n",
    "x = numpy.random.normal(5, 1, 100000)\n",
    "\n",
    "\n",
    "# com média 7 e desvio padrão 0.1\n",
    "y = numpy.random.normal(7, 0.1, 100000)\n",
    "\n",
    "\n",
    "plt.scatter(x, y)\n",
    "plt.show()\n",
    "\n",
    "\n"
   ]
  },
  {
   "cell_type": "markdown",
   "id": "915b3581",
   "metadata": {},
   "source": [
    "# Regressões\n",
    "\n",
    "## Regressão linear\n",
    "\n",
    "* O termo regressão é usado quando tentamos encontrar a relação entre variáveis.\n",
    "* em machine learning esta relação é usada para prever o resultado de eventos futuros. "
   ]
  },
  {
   "cell_type": "code",
   "execution_count": 33,
   "id": "5153d08f",
   "metadata": {},
   "outputs": [
    {
     "data": {
      "text/plain": [
       "LinregressResult(slope=-1.7512877115526118, intercept=103.10596026490066, rvalue=-0.758591524376155, pvalue=0.002646873922456106, stderr=0.453536157607742, intercept_stderr=3.9034928101545123)"
      ]
     },
     "execution_count": 33,
     "metadata": {},
     "output_type": "execute_result"
    }
   ],
   "source": [
    "import matplotlib.pyplot as plt\n",
    "from scipy import stats\n",
    "\n",
    "idades = [5,7,8,7,2,17,2,9,4,11,12,9,6]\n",
    "velocidades = [99,86,87,88,111,86,103,87,94,78,77,85,86]\n",
    "\n",
    "\n",
    "stats.linregress(idades, velocidades)"
   ]
  },
  {
   "cell_type": "markdown",
   "id": "6e5a8217",
   "metadata": {},
   "source": [
    "stats.linregress(x, y) dá-nos os coeficientes da equação da reta: y = m*x + b \n",
    "* m é o ***slope***: declive\n",
    "* b é o ***intercept***: intersecção da reta com eixo do y (valor para x=0)\n",
    "\n",
    "stats.linregress(x, y) também dá outros valores:\n",
    "* ***rvalue*** indica a co-relação entre os valores do eixo x e y. Se não houver relação (rvalue=0) a regressão linear não pode ser usada para prever nada. **Avalia a qualidade da regressão**"
   ]
  },
  {
   "cell_type": "code",
   "execution_count": 36,
   "id": "15c469fc",
   "metadata": {
    "scrolled": true
   },
   "outputs": [
    {
     "data": {
      "image/png": "[encoded data removed]",
      "text/plain": [
       "<Figure size 432x288 with 1 Axes>"
      ]
     },
     "metadata": {
      "needs_background": "light"
     },
     "output_type": "display_data"
    }
   ],
   "source": [
    "import matplotlib.pyplot as plt\n",
    "from scipy import stats\n",
    "\n",
    "idades = [5,7,8,7,2,17,2,9,4,11,12,9,6]\n",
    "velocidades = [99,86,87,88,111,86,103,87,94,78,77,85,86]\n",
    "\n",
    "# representação dos pontos numa gráfico de dispersão\n",
    "plt.scatter(idades, velocidades)\n",
    "plt.xlabel(\"idade\")\n",
    "plt.ylabel(\"velocidade\")\n",
    "\n",
    "\n",
    "# regressão linear (de linha)\n",
    "slope, intercept, r, p, std_err = stats.linregress(idades, velocidades)\n",
    "\n",
    "\n",
    "def estimar_velocidade(idade):\n",
    "    return slope * idade + intercept\n",
    "\n",
    "# representação da regressão linear que estima a velocidade para qualquer idade\n",
    "velocidades_estimadas = [ estimar_velocidade(idade) for idade in idades]\n",
    "\n",
    "plt.plot(idades, velocidades_estimadas)\n",
    "plt.grid()\n",
    "plt.show()"
   ]
  },
  {
   "cell_type": "markdown",
   "id": "216b4a79",
   "metadata": {},
   "source": [
    "A função estimar_velocidade(idade) permite-nos prever valores de velocidade para uma idade que especifiquemos"
   ]
  },
  {
   "cell_type": "code",
   "execution_count": 46,
   "id": "217d70e3",
   "metadata": {},
   "outputs": [
    {
     "data": {
      "text/plain": [
       "40.64711496851479"
      ]
     },
     "execution_count": 46,
     "metadata": {},
     "output_type": "execute_result"
    }
   ],
   "source": [
    "# para 14 anos ,qual a velocidade?\n",
    "estimar_velocidade(14)"
   ]
  },
  {
   "cell_type": "markdown",
   "id": "e6cbe593",
   "metadata": {},
   "source": [
    "### Exemplo de dados em que não há co-relação entre os dados, a regressão linear não fazendo sentido"
   ]
  },
  {
   "cell_type": "code",
   "execution_count": 38,
   "id": "d40a7a90",
   "metadata": {},
   "outputs": [
    {
     "data": {
      "image/png": "[encoded data removed]",
      "text/plain": [
       "<Figure size 432x288 with 1 Axes>"
      ]
     },
     "metadata": {
      "needs_background": "light"
     },
     "output_type": "display_data"
    }
   ],
   "source": [
    "import matplotlib.pyplot as plt\n",
    "from scipy import stats\n",
    "\n",
    "x = [89,43,36,36,95,10,66,34,38,20,26,29,48,64,6,5,36,66,72,40]\n",
    "y = [21,46,3,35,67,95,53,72,58,10,26,34,90,33,38,20,56,2,47,15]\n",
    "\n",
    "slope, intercept, r, p, std_err = stats.linregress(x, y)\n",
    "\n",
    "def myfunc(x):\n",
    "    return slope * x + intercept\n",
    "\n",
    "mymodel = list(map(myfunc, x))\n",
    "\n",
    "plt.scatter(x, y)\n",
    "plt.plot(x, mymodel)\n",
    "plt.show()"
   ]
  },
  {
   "cell_type": "code",
   "execution_count": 43,
   "id": "e18138c1",
   "metadata": {},
   "outputs": [
    {
     "name": "stdout",
     "output_type": "stream",
     "text": [
      "A relação é de 0.01331814154297491\n",
      "Se rvalue=0, não há relação.\n"
     ]
    }
   ],
   "source": [
    "print(f\"A relação é de {r}\")\n",
    "print(\"Se rvalue=0, não há relação.\")"
   ]
  },
  {
   "cell_type": "code",
   "execution_count": null,
   "id": "d4c0b90d",
   "metadata": {},
   "outputs": [],
   "source": []
  },
  {
   "cell_type": "markdown",
   "id": "d9aa6e65",
   "metadata": {},
   "source": [
    "# Regressão polinomial"
   ]
  },
  {
   "cell_type": "markdown",
   "id": "ffd06939",
   "metadata": {},
   "source": [
    "### Motivação\n",
    "\n",
    "qual seria a linha que dessenharia para o exemplo em baixo? \n",
    "uma reta não serve!"
   ]
  },
  {
   "cell_type": "code",
   "execution_count": 47,
   "id": "32a01f67",
   "metadata": {},
   "outputs": [
    {
     "data": {
      "image/png": "[encoded data removed]",
      "text/plain": [
       "<Figure size 432x288 with 1 Axes>"
      ]
     },
     "metadata": {
      "needs_background": "light"
     },
     "output_type": "display_data"
    }
   ],
   "source": [
    "import matplotlib.pyplot as plt\n",
    "\n",
    "x = [1,2,3,5,6,7,8,9,10,12,13,14,15,16,18,19,21,22]\n",
    "y = [100,90,80,60,60,55,60,65,70,70,75,76,78,79,90,99,99,100]\n",
    "\n",
    "plt.scatter(x, y)\n",
    "plt.show()"
   ]
  },
  {
   "cell_type": "code",
   "execution_count": 48,
   "id": "20e7e152",
   "metadata": {},
   "outputs": [],
   "source": [
    "# vamos usar um polinomio de 3º grau (daí o 3)\n",
    "estima_velocidade = numpy.poly1d(numpy.polyfit(x, y, 3))"
   ]
  },
  {
   "cell_type": "code",
   "execution_count": 50,
   "id": "56bbd12b",
   "metadata": {},
   "outputs": [
    {
     "data": {
      "text/plain": [
       "array([ 1.        ,  3.33333333,  5.66666667,  8.        , 10.33333333,\n",
       "       12.66666667, 15.        , 17.33333333, 19.66666667, 22.        ])"
      ]
     },
     "execution_count": 50,
     "metadata": {},
     "output_type": "execute_result"
    }
   ],
   "source": [
    " # sequencia de 10 valores entre 1 e 22\n",
    "numpy.linspace(1, 22, 10)"
   ]
  },
  {
   "cell_type": "code",
   "execution_count": 51,
   "id": "4cbe25c1",
   "metadata": {},
   "outputs": [
    {
     "data": {
      "text/plain": [
       "array([ 1.,  2.,  3.,  4.,  5.,  6.,  7.,  8.,  9., 10., 11., 12., 13.,\n",
       "       14., 15., 16., 17., 18., 19., 20., 21., 22.])"
      ]
     },
     "execution_count": 51,
     "metadata": {},
     "output_type": "execute_result"
    }
   ],
   "source": [
    " # sequencia de 10 valores entre 1 e 22\n",
    "numpy.linspace(1, 22, 22)"
   ]
  },
  {
   "cell_type": "code",
   "execution_count": 53,
   "id": "e37008c4",
   "metadata": {},
   "outputs": [
    {
     "data": {
      "text/plain": [
       "array([ 1. ,  1.5,  2. ,  2.5,  3. ,  3.5,  4. ,  4.5,  5. ,  5.5,  6. ,\n",
       "        6.5,  7. ,  7.5,  8. ,  8.5,  9. ,  9.5, 10. , 10.5, 11. , 11.5,\n",
       "       12. , 12.5, 13. , 13.5, 14. , 14.5, 15. , 15.5, 16. , 16.5, 17. ,\n",
       "       17.5, 18. , 18.5, 19. , 19.5, 20. , 20.5, 21. , 21.5, 22. ])"
      ]
     },
     "execution_count": 53,
     "metadata": {},
     "output_type": "execute_result"
    }
   ],
   "source": [
    " # sequencia de 10 valores entre 1 e 22\n",
    "numpy.linspace(1, 22, 43)"
   ]
  },
  {
   "cell_type": "code",
   "execution_count": 56,
   "id": "8b71047c",
   "metadata": {},
   "outputs": [
    {
     "data": {
      "image/png": "[encoded data removed]",
      "text/plain": [
       "<Figure size 432x288 with 1 Axes>"
      ]
     },
     "metadata": {
      "needs_background": "light"
     },
     "output_type": "display_data"
    }
   ],
   "source": [
    "import matplotlib.pyplot as plt\n",
    "\n",
    "x = [1,2,3,5,6,7,8,9,10,12,13,14,15,16,18,19,21,22]\n",
    "y = [100,90,80,60,60,55,60,65,70,70,75,76,78,79,90,99,99,100]\n",
    "\n",
    "plt.scatter(x, y)\n",
    "\n",
    "# regressão polinomial\n",
    "estima_velocidade = numpy.poly1d(numpy.polyfit(x, y, 3))\n",
    "\n",
    "horas = numpy.linspace(1, 22, 100) # vai dar uma sequencia de 100 valores entre 1 e 22\n",
    "plt.plot(horas, estima_velocidade(horas))\n",
    "\n",
    "plt.show()"
   ]
  },
  {
   "cell_type": "code",
   "execution_count": 70,
   "id": "0b7321b0",
   "metadata": {},
   "outputs": [
    {
     "data": {
      "image/png": "[encoded data removed]",
      "text/plain": [
       "<Figure size 432x288 with 1 Axes>"
      ]
     },
     "metadata": {
      "needs_background": "light"
     },
     "output_type": "display_data"
    }
   ],
   "source": [
    "import matplotlib.pyplot as plt\n",
    "\n",
    "x = [1,2,3,5,6,7,8,9,10,12,13,14,15,16,18,19,21,22]\n",
    "y = [100,90,80,60,60,55,60,65,70,70,75,76,78,79,90,99,99,100]\n",
    "\n",
    "plt.scatter(x, y)\n",
    "\n",
    "# regressão polinomial\n",
    "horas = numpy.linspace(1, 22, 100) # vai dar uma sequencia de 100 valores entre 1 e 22\n",
    "\n",
    "estima_velocidade = numpy.poly1d(numpy.polyfit(x, y, 2))\n",
    "plt.plot(horas, estima_velocidade(horas))\n",
    "\n",
    "# a partir de polinomio grau 3, já temos um bom \"fit\" da curva aos dados\n",
    "estima_velocidade = numpy.poly1d(numpy.polyfit(x, y, 3))\n",
    "plt.plot(horas, estima_velocidade(horas))\n",
    "\n",
    "estima_velocidade = numpy.poly1d(numpy.polyfit(x, y, 4))\n",
    "plt.plot(horas, estima_velocidade(horas))\n",
    "\n",
    "# grau 10 adapta-se a quse todos os valores, o q tambem não está correto\n",
    "estima_velocidade = numpy.poly1d(numpy.polyfit(x, y, 10))\n",
    "plt.plot(horas, estima_velocidade(horas))\n",
    "\n",
    "plt.show()"
   ]
  },
  {
   "cell_type": "markdown",
   "id": "759c8640",
   "metadata": {},
   "source": [
    "# R-Quadrado\n",
    "\n",
    "R-Quadrado (r2_score) é uma métrica que mede/avalia a relação entre valores dos eixos x e y.\n",
    "\n",
    "* se r2_score = 0, não há relação\n",
    "* se r2_score = 1, são 100% relacionados"
   ]
  },
  {
   "cell_type": "code",
   "execution_count": 80,
   "id": "cff4340b",
   "metadata": {},
   "outputs": [
    {
     "name": "stdout",
     "output_type": "stream",
     "text": [
      "r2_score: 0.9432150416451026\n"
     ]
    }
   ],
   "source": [
    "from sklearn.metrics import r2_score\n",
    "\n",
    "x = [1,2,3,5,6,7,8,9,10,12,13,14,15,16,18,19,21,22]\n",
    "y = [100,90,80,60,60,55,60,65,70,70,75,76,78,79,90,99,99,100]\n",
    "\n",
    "estima_velocidade = numpy.poly1d(numpy.polyfit(x, y, 3))\n",
    "\n",
    "print(\"r2_score:\", r2_score(y, estima_velocidade(x)))"
   ]
  },
  {
   "cell_type": "markdown",
   "id": "30ac2cd5",
   "metadata": {},
   "source": [
    "**o r2_score é proximo de 1, indicando que existe uma correlação forte!**"
   ]
  },
  {
   "cell_type": "code",
   "execution_count": 82,
   "id": "6d342098",
   "metadata": {},
   "outputs": [
    {
     "name": "stdout",
     "output_type": "stream",
     "text": [
      "r2_score para regressão polinomial de grau 2: 0.76\n",
      "r2_score para regressão polinomial de grau 3: 0.94\n",
      "r2_score para regressão polinomial de grau 4: 0.95\n",
      "r2_score para regressão polinomial de grau 10: 0.99\n"
     ]
    }
   ],
   "source": [
    "from sklearn.metrics import r2_score\n",
    "\n",
    "x = [1,2,3,5,6,7,8,9,10,12,13,14,15,16,18,19,21,22]\n",
    "y = [100,90,80,60,60,55,60,65,70,70,75,76,78,79,90,99,99,100]\n",
    "\n",
    "\n",
    "for grau in [2,3,4,10]:\n",
    "    estima_velocidade = numpy.poly1d(numpy.polyfit(x, y, grau))\n",
    "    print(f\"r2_score para regressão polinomial de grau {grau}: {r2_score(y, estima_velocidade(x)):.2f}\")"
   ]
  },
  {
   "cell_type": "markdown",
   "id": "4047634e",
   "metadata": {},
   "source": [
    "### Exemplo de má relação indicado por r2_score"
   ]
  },
  {
   "cell_type": "code",
   "execution_count": 84,
   "id": "79e839f4",
   "metadata": {},
   "outputs": [
    {
     "data": {
      "image/png": "[encoded data removed]",
      "text/plain": [
       "<Figure size 432x288 with 1 Axes>"
      ]
     },
     "metadata": {
      "needs_background": "light"
     },
     "output_type": "display_data"
    },
    {
     "name": "stdout",
     "output_type": "stream",
     "text": [
      "score: 0.01\n"
     ]
    }
   ],
   "source": [
    "import matplotlib.pyplot as plt\n",
    "\n",
    "x = [89,43,36,36,95,10,66,34,38,20,26,29,48,64,6,5,36,66,72,40]\n",
    "y = [21,46,3,35,67,95,53,72,58,10,26,34,90,33,38,20,56,2,47,15]\n",
    "\n",
    "plt.scatter(x, y)\n",
    "\n",
    "# regressão polinomial\n",
    "estima_velocidade = numpy.poly1d(numpy.polyfit(x, y, 3))\n",
    "\n",
    "horas = numpy.linspace(1, 110, 100) # vai dar uma sequencia de 100 valores entre 1 e 22\n",
    "plt.plot(horas, estima_velocidade(horas))\n",
    "\n",
    "plt.show()\n",
    "\n",
    "print(f\"r2_score: {r2_score(y, estima_velocidade(x)):.2f}\")"
   ]
  },
  {
   "cell_type": "code",
   "execution_count": null,
   "id": "b4233537",
   "metadata": {},
   "outputs": [],
   "source": []
  }
 ],
 "metadata": {
  "kernelspec": {
   "display_name": "Python 3",
   "language": "python",
   "name": "python3"
  },
  "language_info": {
   "codemirror_mode": {
    "name": "ipython",
    "version": 3
   },
   "file_extension": ".py",
   "mimetype": "text/x-python",
   "name": "python",
   "nbconvert_exporter": "python",
   "pygments_lexer": "ipython3",
   "version": "3.10.2"
  }
 },
 "nbformat": 4,
 "nbformat_minor": 5
}
